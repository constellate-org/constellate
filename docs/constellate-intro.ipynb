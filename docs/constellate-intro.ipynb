{
 "cells": [
  {
   "cell_type": "markdown",
   "metadata": {},
   "source": [
    "#constellate: ignore\n",
    "\n",
    "If you're reading this, it means that you're looking at the Jupyter notebook. If instead you want to see what a Constellation looks like as a webapp, go to the page that was generated from this file here."
   ]
  },
  {
   "attachments": {},
   "cell_type": "markdown",
   "metadata": {},
   "source": [
    "# Introduction to Constellate\n",
    "\n",
    "Constellate is a tool that generates websites like this one from Jupyter notebooks. Sound interesting? Keep reading to learn more: hit the button to switch pages or simply press `N` or the right arrow."
   ]
  },
  {
   "attachments": {},
   "cell_type": "markdown",
   "metadata": {},
   "source": [
    "## What Is Constellate?\n",
    "\n",
    "Wonderful sites like [The Pudding](https://pudding.cool/) and [Distill](https://distill.pub/) showcase the power of long-form interactive content. Unfortunately, hand-coding these sites using pure Javascript requires enormous time investment, even for skilled web developers. Distill estimated in 2018 that mentoring researchers through the creation process for one of their articles took 20-80 hours.[^1]\n",
    "\n",
    "The goal of Constellate is to get 90% of the way to a bespoke piece like one from *Distill* or *The Pudding* without requiring a line of HTML, CSS, or JS. Constellate uses [Jupyter notebooks](https://jupyter.org/), an already ubiquitous format for interactive content that can leverage the mature Python data visualization ecosystem. Constellate will take a notebook and, well, *constellate* it:\n",
    "\n",
    " - Document structure is inferred by the heading levels, generating an interactive table of contents.\n",
    " - All Markdown cells are turned into HTML, with plugins supporting crucial features like $\\LaTeX$ and footnotes.[^2]\n",
    " - On the right side of any page, several kinds of content are automatically rendered and included:\n",
    "   - Code that generates text output is shown along with the output it generated.  \n",
    "   - Dataframes are rendered using an interactive data grid with sorting and filtering.\n",
    "   - Static plots are displayed, along with a tab that lets users see the code that created them.\n",
    "   - Interactive plots from `plotly` or `altair` are shown in their full interactive glory.\n",
    "   - Server-based interactive plots from `panel` or `holoviz` are shown with the server backing them. This lets you achieve complicated interactivity with arbitrary Python code in the browser.\n",
    "   - More functionality coming soon!\n",
    " - Do you like dark mode? So does Constellate. Everything Constellate produces is automatically themed for light and dark mode.\n",
    "\n",
    "Constellate produces *constellations*, which can be easily deployed to a URL and accessed by anyone.\n",
    "\n",
    "[^1]: https://distill.pub/2018/editorial-update/#review-process\n",
    "\n",
    "[^2]: You already saw one of those, but here's another!"
   ]
  },
  {
   "attachments": {},
   "cell_type": "markdown",
   "metadata": {},
   "source": [
    "## Use Cases\n",
    "\n",
    "Constellate has lots of applications. Consider using Constellate when:\n",
    "\n",
    " - You want to present a Jupyter notebook or share the results online. Constellate can serve locally with one command, and it only takes a few minutes to host a notebook on [Vercel](https://vercel.com) or another platform.\n",
    " - You're writing a blog or personal website and want to include data visualizations and interactivity. You can essentially use Constellate as a static site generator and simply write Markdown to make pages like what you're reading right now. Then, when you need more advanced functionality, it's at your fingertips.\n",
    " - You want to write data journalism or data-driven stories on the web, but web development makes you break out in hives or you don't have a spare workweek to port your data analysis to JS and debug arcane D3 errors. Constellate can produce beautiful interactive websites in a small fraction of the time to hand-code WebAssembly or JS. That way, you can spend that time analyzing data or writing."
   ]
  },
  {
   "attachments": {},
   "cell_type": "markdown",
   "metadata": {},
   "source": [
    "## Anti-Use Cases\n",
    "\n",
    "Constellate has a specific niche in the wider world of Jupyter publishing tools and static site generators. Some potential alternatives to Constellate:\n",
    "\n",
    " - If your content is static and you don't need dark mode support or the other bells and whistles of Constellate, there are a whole host of tools to generate static content from Jupyter notebooks. [Jupyter Book](https://jupyterbook.org/en/stable/intro.html) and [Quarto](https://quarto.org/) are good options for static export.[^1]\n",
    " - If you're documenting a Python library or writing for a technical audience that wants to see and change code, [Binder](https://mybinder.org/) or hosted solutions like Google Colab will be more direct and give your readers more control.\n",
    " - Constellate's goal is to do 90% of what you can do by hand with 0% of the required web development knowledge and 0% of the web development time. Sometimes, however, you need that missing 10%. If what you want to do isn't possible in a Jupyter notebook, Constellate is not the tool for you: you'll have to get your hands dirty.\n",
    " - Similarly, Constellate has an opinionated house style which is designed to make beautiful light- or dark-mode websites without any effort on your part. If you need to conform to a specific design system or completely customize the page layout, Constellate will not be flexible enough for your needs. You can use custom CSS, but think of that as a way to apply a coat of paint and not a way to knock out a wall.\n",
    "\n",
    "\n",
    "[^1]: Support for automatically converting Constellations to a static format using one of these tools is planned for the future."
   ]
  }
 ],
 "metadata": {
  "kernelspec": {
   "display_name": "Python 3.10.5 64-bit",
   "language": "python",
   "name": "python3"
  },
  "language_info": {
   "name": "python",
   "version": "3.10.8 (main, Nov  1 2022, 14:18:21) [GCC 12.2.0]"
  },
  "orig_nbformat": 4,
  "vscode": {
   "interpreter": {
    "hash": "e7370f93d1d0cde622a1f8e1c04877d8463912d04d973331ad4851f04de6915a"
   }
  }
 },
 "nbformat": 4,
 "nbformat_minor": 2
}
